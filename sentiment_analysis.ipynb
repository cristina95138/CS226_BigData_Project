{
 "cells": [
  {
   "cell_type": "code",
   "execution_count": 48,
   "metadata": {
    "collapsed": true
   },
   "outputs": [
    {
     "name": "stderr",
     "output_type": "stream",
     "text": [
      "[nltk_data] Downloading package vader_lexicon to\n",
      "[nltk_data]     /Users/cristinalawson/nltk_data...\n",
      "[nltk_data]   Package vader_lexicon is already up-to-date!\n"
     ]
    }
   ],
   "source": [
    "from pyspark.sql import SparkSession\n",
    "from pyspark.sql.functions import *\n",
    "from pyspark.sql.types import *\n",
    "from pyspark.sql import functions as F\n",
    "from afinn import Afinn\n",
    "import nltk\n",
    "nltk.download('vader_lexicon')\n",
    "from nltk.sentiment.vader import SentimentIntensityAnalyzer\n",
    "import pandas as pd\n",
    "import seaborn as sns\n",
    "import matplotlib.pyplot as plt\n",
    "\n",
    "af = Afinn()\n",
    "sid = SentimentIntensityAnalyzer()"
   ]
  },
  {
   "cell_type": "code",
   "execution_count": null,
   "outputs": [],
   "source": [
    "# create Spark session\n",
    "spark = SparkSession.builder.appName(\"TwitterSentimentAnalysis\").getOrCreate()"
   ],
   "metadata": {
    "collapsed": false,
    "pycharm": {
     "name": "#%%\n"
    }
   }
  },
  {
   "cell_type": "code",
   "execution_count": 3,
   "outputs": [],
   "source": [
    "def preprocess(df):\n",
    "    df = df.drop(\"_c0\")\n",
    "    df = df.drop(\"_c3\")\n",
    "    df = df.drop(\"_c4\")\n",
    "    df = df.drop(\"_c5\")\n",
    "    df = df.drop(\"_c6\")\n",
    "    df = df.drop(\"_c7\")\n",
    "    df = df.withColumnRenamed(\"_c1\", \"text\")\n",
    "    df = df.withColumnRenamed(\"_c2\", \"geo\")\n",
    "    df = df.withColumnRenamed(\"_c8\", \"brand\")\n",
    "    df = df.filter(df.text != \"text\")\n",
    "\n",
    "    return df\n",
    "\n",
    "# text classification\n",
    "def polarity_detection(list):\n",
    "    total = 0\n",
    "\n",
    "    polarity_scores = [sid.polarity_scores(text) for text in list]\n",
    "\n",
    "    return polarity_scores\n",
    "\n",
    "def polarity_detection_avg(list):\n",
    "    total = 0\n",
    "\n",
    "    polarity_scores = [sid.polarity_scores(text) for text in list]\n",
    "\n",
    "    for val in polarity_scores:\n",
    "        total += val\n",
    "    avg = val/len(polarity_scores)\n",
    "\n",
    "    return avg\n",
    "\n",
    "def sentiment_detection(list):\n",
    "    sentiment_scores = [af.score(text) for text in list]\n",
    "\n",
    "    return sentiment_scores\n",
    "\n",
    "def sentiment_detection_avg(list):\n",
    "    total = 0\n",
    "\n",
    "    sentiment_scores = [af.score(text) for text in list]\n",
    "\n",
    "    for val in sentiment_scores:\n",
    "        total += val\n",
    "    avg = val/len(sentiment_scores)\n",
    "\n",
    "    return avg\n",
    "\n",
    "def text_classification(words):\n",
    "    # polarity detection\n",
    "    polarity_detection_udf = udf(polarity_detection, StringType())\n",
    "    words = words.withColumn(\"polarity\", polarity_detection_udf(\"word\"))\n",
    "    # subjectivity detection\n",
    "    subjectivity_detection_udf = udf(subjectivity_detection, StringType())\n",
    "    words = words.withColumn(\"subjectivity\", subjectivity_detection_udf(\"word\"))\n",
    "    return words"
   ],
   "metadata": {
    "collapsed": false,
    "pycharm": {
     "name": "#%%\n"
    }
   }
  },
  {
   "cell_type": "code",
   "execution_count": null,
   "outputs": [],
   "source": [
    "if __name__ == \"__main__\":\n",
    "\n",
    "    # read the tweet data from socket\n",
    "    adidas_df = spark.read.csv(\"Data/Preprocessed Tweets/adidas_p.csv\", multiLine=True)\n",
    "    asos_df = spark.read.csv(\"Data/Preprocessed Tweets/asos_p.csv\", multiLine=True)\n",
    "    boohoo_df = spark.read.csv(\"Data/Preprocessed Tweets/boohoo_p.csv\", multiLine=True)\n",
    "    chanel_df = spark.read.csv(\"Data/Preprocessed Tweets/chanel_p.csv\", multiLine=True)\n",
    "    gucci_df = spark.read.csv(\"Data/Preprocessed Tweets/gucci_p.csv\", multiLine=True)\n",
    "    hm_df = spark.read.csv(\"Data/Preprocessed Tweets/h&m_p.csv\", multiLine=True)\n",
    "    nike_df = spark.read.csv(\"Data/Preprocessed Tweets/nike_p.csv\", multiLine=True)\n",
    "    shein_df = spark.read.csv(\"Data/Preprocessed Tweets/shein_p.csv\", multiLine=True)\n",
    "    victoriassecret_df = spark.read.csv(\"Data/Preprocessed Tweets/victoriassecret_p.csv\", multiLine=True)\n",
    "    zara_df = spark.read.csv(\"Data/Preprocessed Tweets/zara_p.csv\", multiLine=True)\n",
    "\n",
    "    # Preprocess the data\n",
    "    adidas_df = preprocess(adidas_df)\n",
    "    asos_df = preprocess(asos_df)\n",
    "    boohoo_df = preprocess(boohoo_df)\n",
    "    chanel_df = preprocess(chanel_df)\n",
    "    gucci_df = preprocess(gucci_df)\n",
    "    hm_df = preprocess(hm_df)\n",
    "    nike_df = preprocess(nike_df)\n",
    "    shein_df = preprocess(shein_df)\n",
    "    victoriassecret_df = preprocess(victoriassecret_df)\n",
    "    zara_df = preprocess(zara_df)\n",
    "\n",
    "    adidas_df.printSchema()\n",
    "    adidas_df.show()\n",
    "\n",
    "    # text classification to define polarity and subjectivity\n",
    "    listValues = adidas_df.select(\"text\").rdd.flatMap(lambda x: x).collect()\n",
    "    adidas_polarity = polarity_detection(listValues)\n",
    "    adidas_sentiment = sentiment_detection(listValues)\n",
    "    #adidas_polarity_avg = polarity_detection_avg(listValues)\n",
    "    adidas_sentiment_avg = sentiment_detection_avg(listValues)\n",
    "\n",
    "    listValues = asos_df.select(\"text\").rdd.flatMap(lambda x: x).collect()\n",
    "    asos_polarity = polarity_detection(listValues)\n",
    "    asos_sentiment = sentiment_detection(listValues)\n",
    "    #asos_polarity_avg = polarity_detection_avg(listValues)\n",
    "    asos_sentiment_avg = sentiment_detection_avg(listValues)\n",
    "\n",
    "    listValues = boohoo_df.select(\"text\").rdd.flatMap(lambda x: x).collect()\n",
    "    boohoo_polarity = polarity_detection(listValues)\n",
    "    boohoo_sentiment = sentiment_detection(listValues)\n",
    "    #boohoo_polarity_avg = polarity_detection_avg(listValues)\n",
    "    boohoo_sentiment_avg = sentiment_detection_avg(listValues)\n",
    "\n",
    "    listValues = chanel_df.select(\"text\").rdd.flatMap(lambda x: x).collect()\n",
    "    chanel_polarity = polarity_detection(listValues)\n",
    "    chanel_sentiment = sentiment_detection(listValues)\n",
    "    #chanel_polarity_avg = polarity_detection_avg(listValues)\n",
    "    chanel_sentiment_avg = sentiment_detection_avg(listValues)\n",
    "\n",
    "    listValues = gucci_df.select(\"text\").rdd.flatMap(lambda x: x).collect()\n",
    "    gucci_polarity = polarity_detection(listValues)\n",
    "    gucci_sentiment = sentiment_detection(listValues)\n",
    "    #gucci_polarity_avg = polarity_detection_avg(listValues)\n",
    "    gucci_sentiment_avg = sentiment_detection_avg(listValues)\n",
    "\n",
    "    listValues = hm_df.select(\"text\").rdd.flatMap(lambda x: x).collect()\n",
    "    hm_polarity = polarity_detection(listValues)\n",
    "    hm_sentiment = sentiment_detection(listValues)\n",
    "    #hm_polarity_avg = polarity_detection_avg(listValues)\n",
    "    hm_sentiment_avg = sentiment_detection_avg(listValues)\n",
    "\n",
    "    listValues = nike_df.select(\"text\").rdd.flatMap(lambda x: x).collect()\n",
    "    nike_polarity = polarity_detection(listValues)\n",
    "    nike_sentiment = sentiment_detection(listValues)\n",
    "    #nike_polarity_avg = polarity_detection_avg(listValues)\n",
    "    nike_sentiment_avg = sentiment_detection_avg(listValues)\n",
    "\n",
    "    listValues = shein_df.select(\"text\").rdd.flatMap(lambda x: x).collect()\n",
    "    shein_polarity = polarity_detection(listValues)\n",
    "    shein_sentiment = sentiment_detection(listValues)\n",
    "    #shein_polarity_avg = polarity_detection_avg(listValues)\n",
    "    shein_sentiment_avg = sentiment_detection_avg(listValues)\n",
    "\n",
    "    listValues = victoriassecret_df.select(\"text\").rdd.flatMap(lambda x: x).collect()\n",
    "    victoriassecret_polarity = polarity_detection(listValues)\n",
    "    victoriassecret_sentiment = sentiment_detection(listValues)\n",
    "    #victoriassecret_polarity_avg = polarity_detection_avg(listValues)\n",
    "    victoriassecret_sentiment_avg = sentiment_detection_avg(listValues)\n",
    "\n",
    "    listValues = zara_df.select(\"text\").rdd.flatMap(lambda x: x).collect()\n",
    "    zara_polarity = polarity_detection(listValues)\n",
    "    zara_sentiment = sentiment_detection(listValues)\n",
    "    #zara_polarity_avg = polarity_detection_avg(listValues)\n",
    "    zara_sentiment_avg = sentiment_detection_avg(listValues)"
   ],
   "metadata": {
    "collapsed": false,
    "pycharm": {
     "name": "#%%\n"
    }
   }
  },
  {
   "cell_type": "code",
   "execution_count": 1,
   "outputs": [
    {
     "ename": "NameError",
     "evalue": "name 'pd' is not defined",
     "output_type": "error",
     "traceback": [
      "\u001B[0;31m---------------------------------------------------------------------------\u001B[0m",
      "\u001B[0;31mNameError\u001B[0m                                 Traceback (most recent call last)",
      "\u001B[0;32m<ipython-input-1-f6ec03bed7b1>\u001B[0m in \u001B[0;36m<module>\u001B[0;34m\u001B[0m\n\u001B[0;32m----> 1\u001B[0;31m df = pd.DataFrame({\n\u001B[0m\u001B[1;32m      2\u001B[0m     \u001B[0;34m'Brands'\u001B[0m\u001B[0;34m:\u001B[0m \u001B[0;34m[\u001B[0m\u001B[0;34m\"Adidas\"\u001B[0m\u001B[0;34m,\u001B[0m \u001B[0;34m\"Asos\"\u001B[0m\u001B[0;34m,\u001B[0m \u001B[0;34m\"Boohoo\"\u001B[0m\u001B[0;34m,\u001B[0m \u001B[0;34m\"Chanel\"\u001B[0m\u001B[0;34m,\u001B[0m \u001B[0;34m\"Gucci\"\u001B[0m\u001B[0;34m,\u001B[0m \u001B[0;34m\"H&M\"\u001B[0m\u001B[0;34m,\u001B[0m \u001B[0;34m\"Nike\"\u001B[0m\u001B[0;34m,\u001B[0m \u001B[0;34m\"Shein\"\u001B[0m\u001B[0;34m,\u001B[0m \u001B[0;34m\"Victoria's Secret\"\u001B[0m\u001B[0;34m,\u001B[0m \u001B[0;34m\"Zara\"\u001B[0m\u001B[0;34m]\u001B[0m\u001B[0;34m,\u001B[0m\u001B[0;34m\u001B[0m\u001B[0;34m\u001B[0m\u001B[0m\n\u001B[1;32m      3\u001B[0m     \u001B[0;34m'Sentiments'\u001B[0m\u001B[0;34m:\u001B[0m \u001B[0;34m[\u001B[0m\u001B[0madidas_sentiment_avg\u001B[0m\u001B[0;34m,\u001B[0m \u001B[0masos_sentiment_avg\u001B[0m\u001B[0;34m,\u001B[0m \u001B[0mboohoo_sentiment_avg\u001B[0m\u001B[0;34m,\u001B[0m \u001B[0mchanel_sentiment_avg\u001B[0m\u001B[0;34m,\u001B[0m \u001B[0mgucci_sentiment_avg\u001B[0m\u001B[0;34m,\u001B[0m \u001B[0mhm_sentiment_avg\u001B[0m\u001B[0;34m,\u001B[0m \u001B[0mnike_sentiment_avg\u001B[0m\u001B[0;34m,\u001B[0m \u001B[0mshein_sentiment_avg\u001B[0m\u001B[0;34m,\u001B[0m \u001B[0mvictoriassecret_sentiment_avg\u001B[0m\u001B[0;34m,\u001B[0m \u001B[0mzara_sentiment_avg\u001B[0m\u001B[0;34m]\u001B[0m\u001B[0;34m\u001B[0m\u001B[0;34m\u001B[0m\u001B[0m\n\u001B[1;32m      4\u001B[0m     })\n\u001B[1;32m      5\u001B[0m \u001B[0max\u001B[0m \u001B[0;34m=\u001B[0m \u001B[0msns\u001B[0m\u001B[0;34m.\u001B[0m\u001B[0mbarplot\u001B[0m\u001B[0;34m(\u001B[0m\u001B[0mx\u001B[0m\u001B[0;34m=\u001B[0m\u001B[0;34m\"Brands\"\u001B[0m\u001B[0;34m,\u001B[0m \u001B[0my\u001B[0m\u001B[0;34m=\u001B[0m\u001B[0;34m\"Sentiments\"\u001B[0m\u001B[0;34m,\u001B[0m \u001B[0mdata\u001B[0m\u001B[0;34m=\u001B[0m\u001B[0mdf\u001B[0m\u001B[0;34m)\u001B[0m\u001B[0;34m\u001B[0m\u001B[0;34m\u001B[0m\u001B[0m\n",
      "\u001B[0;31mNameError\u001B[0m: name 'pd' is not defined"
     ]
    }
   ],
   "source": [
    "    df_avg = pd.DataFrame({\n",
    "        'Brands': [\"Adidas\", \"Asos\", \"Boohoo\", \"Chanel\", \"Gucci\", \"H&M\", \"Nike\", \"Shein\", \"Victoria's Secret\", \"Zara\"],\n",
    "        'Sentiments': [adidas_sentiment_avg, asos_sentiment_avg, boohoo_sentiment_avg, chanel_sentiment_avg, gucci_sentiment_avg, hm_sentiment_avg, nike_sentiment_avg, shein_sentiment_avg, victoriassecret_sentiment_avg, zara_sentiment_avg]\n",
    "        })\n",
    "    ax = sns.barplot(x=\"Brands\", y=\"Sentiments\", data=df_avg)\n",
    "    ax.show()"
   ],
   "metadata": {
    "collapsed": false,
    "pycharm": {
     "name": "#%%\n"
    }
   }
  },
  {
   "cell_type": "code",
   "execution_count": 32,
   "outputs": [],
   "source": [
    "df = spark.read.csv(\"Data/Preprocessed Tweets/*.csv\", multiLine=True)\n",
    "df = preprocess(df)\n",
    "df_clean = df.filter((df.brand == \"adidas\")\n",
    "                     | (df.brand == \"asos\")\n",
    "                     | (df.brand == \"boohoo\")\n",
    "                     | (df.brand == \"chanel\")\n",
    "                     | (df.brand == \"gucci\")\n",
    "                     | (df.brand == \"h&m\")\n",
    "                     | (df.brand == \"nike\")\n",
    "                     | (df.brand == \"shein\")\n",
    "                     | (df.brand == \"victoriassecret\")\n",
    "                     | (df.brand == \"zara\")\n",
    "                     )"
   ],
   "metadata": {
    "collapsed": false,
    "pycharm": {
     "name": "#%%\n"
    }
   }
  },
  {
   "cell_type": "code",
   "execution_count": 60,
   "outputs": [
    {
     "ename": "KeyboardInterrupt",
     "evalue": "",
     "output_type": "error",
     "traceback": [
      "\u001B[0;31m---------------------------------------------------------------------------\u001B[0m",
      "\u001B[0;31mKeyboardInterrupt\u001B[0m                         Traceback (most recent call last)",
      "\u001B[0;32m<ipython-input-60-da31b34de1a2>\u001B[0m in \u001B[0;36m<module>\u001B[0;34m\u001B[0m\n\u001B[1;32m      1\u001B[0m \u001B[0mlistValues\u001B[0m \u001B[0;34m=\u001B[0m \u001B[0mdf_clean\u001B[0m\u001B[0;34m.\u001B[0m\u001B[0mselect\u001B[0m\u001B[0;34m(\u001B[0m\u001B[0;34m\"text\"\u001B[0m\u001B[0;34m)\u001B[0m\u001B[0;34m.\u001B[0m\u001B[0mrdd\u001B[0m\u001B[0;34m.\u001B[0m\u001B[0mflatMap\u001B[0m\u001B[0;34m(\u001B[0m\u001B[0;32mlambda\u001B[0m \u001B[0mx\u001B[0m\u001B[0;34m:\u001B[0m \u001B[0mx\u001B[0m\u001B[0;34m)\u001B[0m\u001B[0;34m.\u001B[0m\u001B[0mcollect\u001B[0m\u001B[0;34m(\u001B[0m\u001B[0;34m)\u001B[0m\u001B[0;34m\u001B[0m\u001B[0;34m\u001B[0m\u001B[0m\n\u001B[0;32m----> 2\u001B[0;31m \u001B[0mdf_polarity\u001B[0m \u001B[0;34m=\u001B[0m \u001B[0mpolarity_detection\u001B[0m\u001B[0;34m(\u001B[0m\u001B[0mlistValues\u001B[0m\u001B[0;34m)\u001B[0m\u001B[0;34m\u001B[0m\u001B[0;34m\u001B[0m\u001B[0m\n\u001B[0m\u001B[1;32m      3\u001B[0m \u001B[0mdf_sentiment\u001B[0m \u001B[0;34m=\u001B[0m \u001B[0msentiment_detection\u001B[0m\u001B[0;34m(\u001B[0m\u001B[0mlistValues\u001B[0m\u001B[0;34m)\u001B[0m\u001B[0;34m\u001B[0m\u001B[0;34m\u001B[0m\u001B[0m\n\u001B[1;32m      4\u001B[0m \u001B[0;31m#adidas_polarity_avg = polarity_detection_avg(listValues)\u001B[0m\u001B[0;34m\u001B[0m\u001B[0;34m\u001B[0m\u001B[0;34m\u001B[0m\u001B[0m\n\u001B[1;32m      5\u001B[0m \u001B[0mdf_sentiment_avg\u001B[0m \u001B[0;34m=\u001B[0m \u001B[0msentiment_detection_avg\u001B[0m\u001B[0;34m(\u001B[0m\u001B[0mlistValues\u001B[0m\u001B[0;34m)\u001B[0m\u001B[0;34m\u001B[0m\u001B[0;34m\u001B[0m\u001B[0m\n",
      "\u001B[0;32m<ipython-input-3-156b5bce26cd>\u001B[0m in \u001B[0;36mpolarity_detection\u001B[0;34m(list)\u001B[0m\n\u001B[1;32m     17\u001B[0m     \u001B[0mtotal\u001B[0m \u001B[0;34m=\u001B[0m \u001B[0;36m0\u001B[0m\u001B[0;34m\u001B[0m\u001B[0;34m\u001B[0m\u001B[0m\n\u001B[1;32m     18\u001B[0m \u001B[0;34m\u001B[0m\u001B[0m\n\u001B[0;32m---> 19\u001B[0;31m     \u001B[0mpolarity_scores\u001B[0m \u001B[0;34m=\u001B[0m \u001B[0;34m[\u001B[0m\u001B[0msid\u001B[0m\u001B[0;34m.\u001B[0m\u001B[0mpolarity_scores\u001B[0m\u001B[0;34m(\u001B[0m\u001B[0mtext\u001B[0m\u001B[0;34m)\u001B[0m \u001B[0;32mfor\u001B[0m \u001B[0mtext\u001B[0m \u001B[0;32min\u001B[0m \u001B[0mlist\u001B[0m\u001B[0;34m]\u001B[0m\u001B[0;34m\u001B[0m\u001B[0;34m\u001B[0m\u001B[0m\n\u001B[0m\u001B[1;32m     20\u001B[0m \u001B[0;34m\u001B[0m\u001B[0m\n\u001B[1;32m     21\u001B[0m     \u001B[0;32mreturn\u001B[0m \u001B[0mpolarity_scores\u001B[0m\u001B[0;34m\u001B[0m\u001B[0;34m\u001B[0m\u001B[0m\n",
      "\u001B[0;32m<ipython-input-3-156b5bce26cd>\u001B[0m in \u001B[0;36m<listcomp>\u001B[0;34m(.0)\u001B[0m\n\u001B[1;32m     17\u001B[0m     \u001B[0mtotal\u001B[0m \u001B[0;34m=\u001B[0m \u001B[0;36m0\u001B[0m\u001B[0;34m\u001B[0m\u001B[0;34m\u001B[0m\u001B[0m\n\u001B[1;32m     18\u001B[0m \u001B[0;34m\u001B[0m\u001B[0m\n\u001B[0;32m---> 19\u001B[0;31m     \u001B[0mpolarity_scores\u001B[0m \u001B[0;34m=\u001B[0m \u001B[0;34m[\u001B[0m\u001B[0msid\u001B[0m\u001B[0;34m.\u001B[0m\u001B[0mpolarity_scores\u001B[0m\u001B[0;34m(\u001B[0m\u001B[0mtext\u001B[0m\u001B[0;34m)\u001B[0m \u001B[0;32mfor\u001B[0m \u001B[0mtext\u001B[0m \u001B[0;32min\u001B[0m \u001B[0mlist\u001B[0m\u001B[0;34m]\u001B[0m\u001B[0;34m\u001B[0m\u001B[0;34m\u001B[0m\u001B[0m\n\u001B[0m\u001B[1;32m     20\u001B[0m \u001B[0;34m\u001B[0m\u001B[0m\n\u001B[1;32m     21\u001B[0m     \u001B[0;32mreturn\u001B[0m \u001B[0mpolarity_scores\u001B[0m\u001B[0;34m\u001B[0m\u001B[0;34m\u001B[0m\u001B[0m\n",
      "\u001B[0;32m~/PycharmProjects/Assignment3/venv/lib/python3.9/site-packages/nltk/sentiment/vader.py\u001B[0m in \u001B[0;36mpolarity_scores\u001B[0;34m(self, text)\u001B[0m\n\u001B[1;32m    377\u001B[0m         \u001B[0msentiments\u001B[0m \u001B[0;34m=\u001B[0m \u001B[0mself\u001B[0m\u001B[0;34m.\u001B[0m\u001B[0m_but_check\u001B[0m\u001B[0;34m(\u001B[0m\u001B[0mwords_and_emoticons\u001B[0m\u001B[0;34m,\u001B[0m \u001B[0msentiments\u001B[0m\u001B[0;34m)\u001B[0m\u001B[0;34m\u001B[0m\u001B[0;34m\u001B[0m\u001B[0m\n\u001B[1;32m    378\u001B[0m \u001B[0;34m\u001B[0m\u001B[0m\n\u001B[0;32m--> 379\u001B[0;31m         \u001B[0;32mreturn\u001B[0m \u001B[0mself\u001B[0m\u001B[0;34m.\u001B[0m\u001B[0mscore_valence\u001B[0m\u001B[0;34m(\u001B[0m\u001B[0msentiments\u001B[0m\u001B[0;34m,\u001B[0m \u001B[0mtext\u001B[0m\u001B[0;34m)\u001B[0m\u001B[0;34m\u001B[0m\u001B[0;34m\u001B[0m\u001B[0m\n\u001B[0m\u001B[1;32m    380\u001B[0m \u001B[0;34m\u001B[0m\u001B[0m\n\u001B[1;32m    381\u001B[0m     \u001B[0;32mdef\u001B[0m \u001B[0msentiment_valence\u001B[0m\u001B[0;34m(\u001B[0m\u001B[0mself\u001B[0m\u001B[0;34m,\u001B[0m \u001B[0mvalence\u001B[0m\u001B[0;34m,\u001B[0m \u001B[0msentitext\u001B[0m\u001B[0;34m,\u001B[0m \u001B[0mitem\u001B[0m\u001B[0;34m,\u001B[0m \u001B[0mi\u001B[0m\u001B[0;34m,\u001B[0m \u001B[0msentiments\u001B[0m\u001B[0;34m)\u001B[0m\u001B[0;34m:\u001B[0m\u001B[0;34m\u001B[0m\u001B[0;34m\u001B[0m\u001B[0m\n",
      "\u001B[0;32m~/PycharmProjects/Assignment3/venv/lib/python3.9/site-packages/nltk/sentiment/vader.py\u001B[0m in \u001B[0;36mscore_valence\u001B[0;34m(self, sentiments, text)\u001B[0m\n\u001B[1;32m    600\u001B[0m             \u001B[0mcompound\u001B[0m \u001B[0;34m=\u001B[0m \u001B[0mself\u001B[0m\u001B[0;34m.\u001B[0m\u001B[0mconstants\u001B[0m\u001B[0;34m.\u001B[0m\u001B[0mnormalize\u001B[0m\u001B[0;34m(\u001B[0m\u001B[0msum_s\u001B[0m\u001B[0;34m)\u001B[0m\u001B[0;34m\u001B[0m\u001B[0;34m\u001B[0m\u001B[0m\n\u001B[1;32m    601\u001B[0m             \u001B[0;31m# discriminate between positive, negative and neutral sentiment scores\u001B[0m\u001B[0;34m\u001B[0m\u001B[0;34m\u001B[0m\u001B[0;34m\u001B[0m\u001B[0m\n\u001B[0;32m--> 602\u001B[0;31m             \u001B[0mpos_sum\u001B[0m\u001B[0;34m,\u001B[0m \u001B[0mneg_sum\u001B[0m\u001B[0;34m,\u001B[0m \u001B[0mneu_count\u001B[0m \u001B[0;34m=\u001B[0m \u001B[0mself\u001B[0m\u001B[0;34m.\u001B[0m\u001B[0m_sift_sentiment_scores\u001B[0m\u001B[0;34m(\u001B[0m\u001B[0msentiments\u001B[0m\u001B[0;34m)\u001B[0m\u001B[0;34m\u001B[0m\u001B[0;34m\u001B[0m\u001B[0m\n\u001B[0m\u001B[1;32m    603\u001B[0m \u001B[0;34m\u001B[0m\u001B[0m\n\u001B[1;32m    604\u001B[0m             \u001B[0;32mif\u001B[0m \u001B[0mpos_sum\u001B[0m \u001B[0;34m>\u001B[0m \u001B[0mmath\u001B[0m\u001B[0;34m.\u001B[0m\u001B[0mfabs\u001B[0m\u001B[0;34m(\u001B[0m\u001B[0mneg_sum\u001B[0m\u001B[0;34m)\u001B[0m\u001B[0;34m:\u001B[0m\u001B[0;34m\u001B[0m\u001B[0;34m\u001B[0m\u001B[0m\n",
      "\u001B[0;32m~/PycharmProjects/Assignment3/venv/lib/python3.9/site-packages/nltk/sentiment/vader.py\u001B[0m in \u001B[0;36m_sift_sentiment_scores\u001B[0;34m(self, sentiments)\u001B[0m\n\u001B[1;32m    585\u001B[0m                 )  # when used with math.fabs(), compensates for neutrals\n\u001B[1;32m    586\u001B[0m             \u001B[0;32mif\u001B[0m \u001B[0msentiment_score\u001B[0m \u001B[0;34m==\u001B[0m \u001B[0;36m0\u001B[0m\u001B[0;34m:\u001B[0m\u001B[0;34m\u001B[0m\u001B[0;34m\u001B[0m\u001B[0m\n\u001B[0;32m--> 587\u001B[0;31m                 \u001B[0mneu_count\u001B[0m \u001B[0;34m+=\u001B[0m \u001B[0;36m1\u001B[0m\u001B[0;34m\u001B[0m\u001B[0;34m\u001B[0m\u001B[0m\n\u001B[0m\u001B[1;32m    588\u001B[0m         \u001B[0;32mreturn\u001B[0m \u001B[0mpos_sum\u001B[0m\u001B[0;34m,\u001B[0m \u001B[0mneg_sum\u001B[0m\u001B[0;34m,\u001B[0m \u001B[0mneu_count\u001B[0m\u001B[0;34m\u001B[0m\u001B[0;34m\u001B[0m\u001B[0m\n\u001B[1;32m    589\u001B[0m \u001B[0;34m\u001B[0m\u001B[0m\n",
      "\u001B[0;31mKeyboardInterrupt\u001B[0m: "
     ]
    }
   ],
   "source": [
    "listValues = df_clean.select(\"text\").rdd.flatMap(lambda x: x).collect()\n",
    "df_polarity = polarity_detection(listValues)\n",
    "df_sentiment = sentiment_detection(listValues)\n",
    "#adidas_polarity_avg = polarity_detection_avg(listValues)\n",
    "df_sentiment_avg = sentiment_detection_avg(listValues)\n"
   ],
   "metadata": {
    "collapsed": false,
    "pycharm": {
     "name": "#%%\n"
    }
   }
  },
  {
   "cell_type": "code",
   "execution_count": 67,
   "outputs": [],
   "source": [
    "brands = []\n",
    "brands = df_clean.select(\"brand\").rdd.flatMap(lambda x: x).collect()\n",
    "\n",
    "sent_df = pd.DataFrame({\n",
    "        'Brands': brands,\n",
    "        'Sentiments': df_sentiment\n",
    "    })\n",
    "\n",
    "ax2 = sns.catplot(x=\"Brands\", y=\"Sentiments\", kind=\"box\", data=sent_df)\n",
    "plt.xticks(rotation=45)\n",
    "ax2"
   ],
   "metadata": {
    "collapsed": false,
    "pycharm": {
     "name": "#%%\n"
    }
   }
  },
  {
   "cell_type": "code",
   "execution_count": 65,
   "outputs": [
    {
     "data": {
      "text/plain": "<AxesSubplot:xlabel='Brands', ylabel='Sentiments'>"
     },
     "execution_count": 65,
     "metadata": {},
     "output_type": "execute_result"
    },
    {
     "data": {
      "text/plain": "<Figure size 1008x504 with 1 Axes>",
      "image/png": "[encoded data removed]"
     },
     "metadata": {},
     "output_type": "display_data"
    }
   ],
   "source": [
    "plt.figure(figsize = (14,7))\n",
    "ax = sns.barplot(x=\"Brands\", y=\"Sentiments\", data=sent_df)\n",
    "ax"
   ],
   "metadata": {
    "collapsed": false,
    "pycharm": {
     "name": "#%%\n"
    }
   }
  }
 ],
 "metadata": {
  "kernelspec": {
   "display_name": "Python 3",
   "language": "python",
   "name": "python3"
  },
  "language_info": {
   "codemirror_mode": {
    "name": "ipython",
    "version": 2
   },
   "file_extension": ".py",
   "mimetype": "text/x-python",
   "name": "python",
   "nbconvert_exporter": "python",
   "pygments_lexer": "ipython2",
   "version": "2.7.6"
  }
 },
 "nbformat": 4,
 "nbformat_minor": 0
}